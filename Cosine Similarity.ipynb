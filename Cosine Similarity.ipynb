{
 "cells": [
  {
   "cell_type": "markdown",
   "metadata": {},
   "source": [
    "## Cosine Similarity"
   ]
  },
  {
   "cell_type": "markdown",
   "metadata": {},
   "source": [
    "    x= \" \" \n",
    "    y = \" \"\n",
    "\n",
    "- Count Vectorizer [0,7] [0,3]\n",
    "- cosine similarity\n",
    "\n",
    "similarity = 0 - 1"
   ]
  },
  {
   "cell_type": "markdown",
   "metadata": {},
   "source": [
    "## Cosine"
   ]
  },
  {
   "cell_type": "code",
   "execution_count": 90,
   "metadata": {},
   "outputs": [],
   "source": [
    "from nltk.corpus import stopwords\n",
    "from nltk.tokenize import word_tokenize\n",
    "\n",
    "stop_words = stopwords.words('english')\n",
    "\n",
    "X = \"I love horror movies movies movies\".lower()\n",
    "Y = \"I also love horror movies\".lower()\n",
    "\n",
    "x_list = word_tokenize(X)\n",
    "y_list = word_tokenize(Y)"
   ]
  },
  {
   "cell_type": "code",
   "execution_count": 91,
   "metadata": {},
   "outputs": [
    {
     "data": {
      "text/plain": [
       "['i', 'love', 'horror', 'movies', 'movies', 'movies']"
      ]
     },
     "execution_count": 91,
     "metadata": {},
     "output_type": "execute_result"
    }
   ],
   "source": [
    "x_list"
   ]
  },
  {
   "cell_type": "code",
   "execution_count": 92,
   "metadata": {},
   "outputs": [
    {
     "data": {
      "text/plain": [
       "['i', 'also', 'love', 'horror', 'movies']"
      ]
     },
     "execution_count": 92,
     "metadata": {},
     "output_type": "execute_result"
    }
   ],
   "source": [
    "y_list"
   ]
  },
  {
   "cell_type": "code",
   "execution_count": 93,
   "metadata": {},
   "outputs": [],
   "source": [
    "features = sorted(list(set(x_list+y_list)))\n",
    "features = [each for each in features if each not in stop_words]\n",
    "\n",
    "l1 = [0] * len(features)\n",
    "l2 = [0] * len(features)\n",
    "\n",
    "for index, each in enumerate(features):\n",
    "    if each in x_list:\n",
    "        l1[index] = x_list.count(each)\n",
    "        \n",
    "    if each in y_list:\n",
    "        l2[index] = y_list.count(each)"
   ]
  },
  {
   "cell_type": "code",
   "execution_count": 94,
   "metadata": {},
   "outputs": [
    {
     "data": {
      "text/plain": [
       "['also', 'horror', 'love', 'movies']"
      ]
     },
     "execution_count": 94,
     "metadata": {},
     "output_type": "execute_result"
    }
   ],
   "source": [
    "features"
   ]
  },
  {
   "cell_type": "code",
   "execution_count": 95,
   "metadata": {},
   "outputs": [
    {
     "data": {
      "text/plain": [
       "[0, 1, 1, 3]"
      ]
     },
     "execution_count": 95,
     "metadata": {},
     "output_type": "execute_result"
    }
   ],
   "source": [
    "l1"
   ]
  },
  {
   "cell_type": "code",
   "execution_count": 96,
   "metadata": {},
   "outputs": [
    {
     "data": {
      "text/plain": [
       "[1, 1, 1, 1]"
      ]
     },
     "execution_count": 96,
     "metadata": {},
     "output_type": "execute_result"
    }
   ],
   "source": [
    "l2"
   ]
  },
  {
   "cell_type": "markdown",
   "metadata": {},
   "source": [
    "    numerator = summation(elements multiplied)\n",
    "    denominator = sqrt(l1(sum(elements squared))) * sqrt(l2(sum(elements squared)))\n",
    "\n",
    "## Cosine Similarity = numerator / denominator"
   ]
  },
  {
   "cell_type": "markdown",
   "metadata": {},
   "source": [
    "<img src ='./cosine-similarity.png'/>"
   ]
  },
  {
   "cell_type": "code",
   "execution_count": 97,
   "metadata": {},
   "outputs": [
    {
     "name": "stdout",
     "output_type": "stream",
     "text": [
      "5\n",
      "6.6332495807108\n"
     ]
    }
   ],
   "source": [
    "import numpy as np\n",
    "import math\n",
    "\n",
    "\n",
    "mul_list = []\n",
    "for i in range(0,len(l1)):\n",
    "    mul_list.append(l1[i]*l2[i])\n",
    "numerator = sum(mul_list)\n",
    "print(numerator)\n",
    "denominator = (math.sqrt(sum(np.square(l1)))) * (math.sqrt(sum(np.square(l2))))\n",
    "print(denominator)"
   ]
  },
  {
   "cell_type": "code",
   "execution_count": 98,
   "metadata": {},
   "outputs": [
    {
     "name": "stdout",
     "output_type": "stream",
     "text": [
      "numerator = 5\n",
      "numerator = 6.6332495807108\n"
     ]
    },
    {
     "data": {
      "text/plain": [
       "0.753778361444409"
      ]
     },
     "execution_count": 98,
     "metadata": {},
     "output_type": "execute_result"
    }
   ],
   "source": [
    "def cosine_sim(a,b):\n",
    "    mul_list = []\n",
    "    for i in range(0,len(l1)):\n",
    "        mul_list.append(l1[i]*l2[i])\n",
    "    numerator = sum(mul_list)\n",
    "    print(\"numerator =\", numerator)\n",
    "    denominator = (math.sqrt(sum(np.square(l1)))) * (math.sqrt(sum(np.square(l2))))\n",
    "    print(\"numerator =\", denominator)\n",
    "    \n",
    "    cosine_sim = numerator / denominator\n",
    "    \n",
    "    return cosine_sim\n",
    "    \n",
    "cosine_sim(l1,l2)"
   ]
  },
  {
   "cell_type": "code",
   "execution_count": 99,
   "metadata": {},
   "outputs": [],
   "source": [
    "from sklearn.feature_extraction.text import CountVectorizer\n",
    "cv = CountVectorizer()\n",
    "data = cv.fit_transform([X,Y])"
   ]
  },
  {
   "cell_type": "code",
   "execution_count": 100,
   "metadata": {},
   "outputs": [
    {
     "data": {
      "text/plain": [
       "array([[0, 1, 1, 3],\n",
       "       [1, 1, 1, 1]])"
      ]
     },
     "execution_count": 100,
     "metadata": {},
     "output_type": "execute_result"
    }
   ],
   "source": [
    "data.toarray()"
   ]
  },
  {
   "cell_type": "code",
   "execution_count": 101,
   "metadata": {},
   "outputs": [],
   "source": [
    "from sklearn.metrics.pairwise import cosine_similarity"
   ]
  },
  {
   "cell_type": "code",
   "execution_count": 102,
   "metadata": {},
   "outputs": [
    {
     "data": {
      "text/plain": [
       "array([[1.        , 0.75377836],\n",
       "       [0.75377836, 1.        ]])"
      ]
     },
     "execution_count": 102,
     "metadata": {},
     "output_type": "execute_result"
    }
   ],
   "source": [
    "cosine_similarity(data)"
   ]
  },
  {
   "cell_type": "markdown",
   "metadata": {},
   "source": [
    "        x     y\n",
    "\n",
    "    x   1    0.75\n",
    "\n",
    "    y  0.75   1"
   ]
  },
  {
   "cell_type": "code",
   "execution_count": null,
   "metadata": {},
   "outputs": [],
   "source": []
  }
 ],
 "metadata": {
  "kernelspec": {
   "display_name": "Python 3",
   "language": "python",
   "name": "python3"
  },
  "language_info": {
   "codemirror_mode": {
    "name": "ipython",
    "version": 3
   },
   "file_extension": ".py",
   "mimetype": "text/x-python",
   "name": "python",
   "nbconvert_exporter": "python",
   "pygments_lexer": "ipython3",
   "version": "3.7.6"
  }
 },
 "nbformat": 4,
 "nbformat_minor": 4
}
