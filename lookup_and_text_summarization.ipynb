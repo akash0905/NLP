{
 "cells": [
  {
   "cell_type": "markdown",
   "metadata": {},
   "source": [
    "# Look Up Algorithms"
   ]
  },
  {
   "cell_type": "markdown",
   "metadata": {},
   "source": [
    "- tables\n",
    "- hash tables\n",
    "- dictionary"
   ]
  },
  {
   "cell_type": "code",
   "execution_count": 1,
   "metadata": {},
   "outputs": [],
   "source": [
    "text = \"RT We r goin to the CCD @ MG Rd DM for more info\""
   ]
  },
  {
   "cell_type": "code",
   "execution_count": 5,
   "metadata": {},
   "outputs": [],
   "source": [
    "lookup = {\n",
    "    'rt' : 'Retweet',\n",
    "    'r' : 'are',\n",
    "    'goin' : 'going',\n",
    "    'rd' : 'Road',\n",
    "    'dm' : 'Direct Message',\n",
    "    'info' : 'information'\n",
    "}"
   ]
  },
  {
   "cell_type": "code",
   "execution_count": 10,
   "metadata": {},
   "outputs": [],
   "source": [
    "def lookup_algorithm(text):\n",
    "    \"\"\"it takes a text message from whatsapp or twitter\n",
    "    and converts to regular english words\"\"\"\n",
    "    \n",
    "    all_words = text.split(\" \") #tokenization step\n",
    "    new_text = []\n",
    "    \n",
    "    for each_word in all_words:\n",
    "        lower_each = each_word.lower()\n",
    "        \n",
    "        if lower_each in lookup:\n",
    "            new_text.append(lookup[lower_each])\n",
    "            \n",
    "        else:\n",
    "            new_text.append(each_word)\n",
    "            \n",
    "            \n",
    "    return ' '.join(new_text)"
   ]
  },
  {
   "cell_type": "code",
   "execution_count": 11,
   "metadata": {},
   "outputs": [
    {
     "data": {
      "text/plain": [
       "'Retweet We are going to the CCD @ MG Road Direct Message for more information'"
      ]
     },
     "execution_count": 11,
     "metadata": {},
     "output_type": "execute_result"
    }
   ],
   "source": [
    "lookup_algorithm(text)"
   ]
  },
  {
   "cell_type": "markdown",
   "metadata": {},
   "source": [
    "## Text Summarization\n",
    "\n",
    "- inshort (real life example)\n",
    "\n",
    "## Two types\n",
    "\n",
    "- Abstractive -100words -> 10words ==> sum text can not be from the original text\n",
    "- Extractive -100words -> 10words ==> sum text will always be present in original text"
   ]
  },
  {
   "cell_type": "code",
   "execution_count": null,
   "metadata": {},
   "outputs": [],
   "source": []
  }
 ],
 "metadata": {
  "kernelspec": {
   "display_name": "Python 3",
   "language": "python",
   "name": "python3"
  },
  "language_info": {
   "codemirror_mode": {
    "name": "ipython",
    "version": 3
   },
   "file_extension": ".py",
   "mimetype": "text/x-python",
   "name": "python",
   "nbconvert_exporter": "python",
   "pygments_lexer": "ipython3",
   "version": "3.7.6"
  }
 },
 "nbformat": 4,
 "nbformat_minor": 4
}
