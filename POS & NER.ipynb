{
 "cells": [
  {
   "cell_type": "markdown",
   "metadata": {},
   "source": [
    "## POS and NER\n",
    "- POS : Part of speech"
   ]
  },
  {
   "cell_type": "code",
   "execution_count": 1,
   "metadata": {},
   "outputs": [],
   "source": [
    "import nltk\n",
    "from nltk.tokenize import word_tokenize"
   ]
  },
  {
   "cell_type": "code",
   "execution_count": 2,
   "metadata": {},
   "outputs": [],
   "source": [
    "sentence = \"I am good at playing football\"\n",
    "text = word_tokenize(sentence)"
   ]
  },
  {
   "cell_type": "code",
   "execution_count": 3,
   "metadata": {},
   "outputs": [
    {
     "name": "stderr",
     "output_type": "stream",
     "text": [
      "[nltk_data] Downloading package averaged_perceptron_tagger to\n",
      "[nltk_data]     /home/akash/nltk_data...\n",
      "[nltk_data]   Package averaged_perceptron_tagger is already up-to-\n",
      "[nltk_data]       date!\n",
      "[nltk_data] Downloading package universal_tagset to\n",
      "[nltk_data]     /home/akash/nltk_data...\n",
      "[nltk_data]   Package universal_tagset is already up-to-date!\n"
     ]
    },
    {
     "data": {
      "text/plain": [
       "True"
      ]
     },
     "execution_count": 3,
     "metadata": {},
     "output_type": "execute_result"
    }
   ],
   "source": [
    "# if pos code fails \n",
    "nltk.download('averaged_perceptron_tagger')\n",
    "nltk.download('universal_tagset')"
   ]
  },
  {
   "cell_type": "code",
   "execution_count": 4,
   "metadata": {},
   "outputs": [
    {
     "data": {
      "text/plain": [
       "[('I', 'PRON'),\n",
       " ('am', 'VERB'),\n",
       " ('good', 'ADJ'),\n",
       " ('at', 'ADP'),\n",
       " ('playing', 'VERB'),\n",
       " ('football', 'NOUN')]"
      ]
     },
     "execution_count": 4,
     "metadata": {},
     "output_type": "execute_result"
    }
   ],
   "source": [
    "nltk.pos_tag(text, tagset='universal')"
   ]
  },
  {
   "cell_type": "code",
   "execution_count": 5,
   "metadata": {},
   "outputs": [
    {
     "data": {
      "text/plain": [
       "[('I', 'PRP'),\n",
       " ('am', 'VBP'),\n",
       " ('good', 'JJ'),\n",
       " ('at', 'IN'),\n",
       " ('playing', 'VBG'),\n",
       " ('football', 'NN')]"
      ]
     },
     "execution_count": 5,
     "metadata": {},
     "output_type": "execute_result"
    }
   ],
   "source": [
    "nltk.pos_tag(text)"
   ]
  },
  {
   "cell_type": "code",
   "execution_count": 6,
   "metadata": {},
   "outputs": [],
   "source": [
    "from nltk.stem import WordNetLemmatizer"
   ]
  },
  {
   "cell_type": "code",
   "execution_count": 7,
   "metadata": {},
   "outputs": [],
   "source": [
    "ws = WordNetLemmatizer()"
   ]
  },
  {
   "cell_type": "code",
   "execution_count": 8,
   "metadata": {},
   "outputs": [],
   "source": [
    "words = ['go','going','gone','went','city','cities','organization']"
   ]
  },
  {
   "cell_type": "code",
   "execution_count": 9,
   "metadata": {},
   "outputs": [
    {
     "name": "stdout",
     "output_type": "stream",
     "text": [
      "go\n",
      "going\n",
      "gone\n",
      "went\n",
      "city\n",
      "city\n",
      "organization\n"
     ]
    }
   ],
   "source": [
    "for each in words:\n",
    "    print(ws.lemmatize(each))"
   ]
  },
  {
   "cell_type": "code",
   "execution_count": 10,
   "metadata": {},
   "outputs": [
    {
     "name": "stdout",
     "output_type": "stream",
     "text": [
      "go\n",
      "go\n",
      "go\n",
      "go\n",
      "city\n",
      "cities\n",
      "organization\n"
     ]
    }
   ],
   "source": [
    "for each in words:\n",
    "    print(ws.lemmatize(each, pos='v'))"
   ]
  },
  {
   "cell_type": "code",
   "execution_count": 11,
   "metadata": {},
   "outputs": [
    {
     "data": {
      "text/plain": [
       "['go', 'going', 'gone', 'went', 'city', 'cities', 'organization']"
      ]
     },
     "execution_count": 11,
     "metadata": {},
     "output_type": "execute_result"
    }
   ],
   "source": [
    "words"
   ]
  },
  {
   "cell_type": "code",
   "execution_count": 12,
   "metadata": {},
   "outputs": [
    {
     "data": {
      "text/plain": [
       "[('go', 'VB'),\n",
       " ('going', 'VBG'),\n",
       " ('gone', 'VBN'),\n",
       " ('went', 'VBD'),\n",
       " ('city', 'NN'),\n",
       " ('cities', 'NNS'),\n",
       " ('organization', 'NN')]"
      ]
     },
     "execution_count": 12,
     "metadata": {},
     "output_type": "execute_result"
    }
   ],
   "source": [
    "words = nltk.pos_tag(words)\n",
    "words"
   ]
  },
  {
   "cell_type": "code",
   "execution_count": 13,
   "metadata": {},
   "outputs": [
    {
     "name": "stdout",
     "output_type": "stream",
     "text": [
      "go\n",
      "go\n",
      "go\n",
      "go\n",
      "city\n",
      "city\n",
      "organization\n"
     ]
    }
   ],
   "source": [
    "for word, pos in words:\n",
    "    print(ws.lemmatize(word, pos=pos[0].lower()))"
   ]
  },
  {
   "cell_type": "markdown",
   "metadata": {},
   "source": [
    "## NER"
   ]
  },
  {
   "cell_type": "code",
   "execution_count": 14,
   "metadata": {},
   "outputs": [],
   "source": [
    "sent = \"Micorsoft Corporation is an American multinational technology comapny with headquaters in Redmond, Washington\""
   ]
  },
  {
   "cell_type": "code",
   "execution_count": 15,
   "metadata": {},
   "outputs": [],
   "source": [
    "tokenized = nltk.pos_tag(word_tokenize(sent))"
   ]
  },
  {
   "cell_type": "code",
   "execution_count": 16,
   "metadata": {},
   "outputs": [
    {
     "data": {
      "text/plain": [
       "[('Micorsoft', 'NNP'),\n",
       " ('Corporation', 'NNP'),\n",
       " ('is', 'VBZ'),\n",
       " ('an', 'DT'),\n",
       " ('American', 'JJ'),\n",
       " ('multinational', 'JJ'),\n",
       " ('technology', 'NN'),\n",
       " ('comapny', 'NN'),\n",
       " ('with', 'IN'),\n",
       " ('headquaters', 'NNS'),\n",
       " ('in', 'IN'),\n",
       " ('Redmond', 'NNP'),\n",
       " (',', ','),\n",
       " ('Washington', 'NNP')]"
      ]
     },
     "execution_count": 16,
     "metadata": {},
     "output_type": "execute_result"
    }
   ],
   "source": [
    "tokenized"
   ]
  },
  {
   "cell_type": "code",
   "execution_count": 17,
   "metadata": {},
   "outputs": [
    {
     "data": {
      "image/png": "[encoded data removed]",
      "text/plain": [
       "Tree('S', [Tree('NE', [('Micorsoft', 'NNP'), ('Corporation', 'NNP')]), ('is', 'VBZ'), ('an', 'DT'), Tree('NE', [('American', 'JJ')]), ('multinational', 'JJ'), ('technology', 'NN'), ('comapny', 'NN'), ('with', 'IN'), ('headquaters', 'NNS'), ('in', 'IN'), Tree('NE', [('Redmond', 'NNP')]), (',', ','), Tree('NE', [('Washington', 'NNP')])])"
      ]
     },
     "execution_count": 17,
     "metadata": {},
     "output_type": "execute_result"
    }
   ],
   "source": [
    "nltk.ne_chunk(tokenized, binary= True)"
   ]
  },
  {
   "cell_type": "code",
   "execution_count": 18,
   "metadata": {},
   "outputs": [
    {
     "data": {
      "image/png": "[encoded data removed]",
      "text/plain": [
       "Tree('S', [Tree('PERSON', [('Micorsoft', 'NNP')]), Tree('ORGANIZATION', [('Corporation', 'NNP')]), ('is', 'VBZ'), ('an', 'DT'), Tree('GPE', [('American', 'JJ')]), ('multinational', 'JJ'), ('technology', 'NN'), ('comapny', 'NN'), ('with', 'IN'), ('headquaters', 'NNS'), ('in', 'IN'), Tree('GPE', [('Redmond', 'NNP')]), (',', ','), Tree('GPE', [('Washington', 'NNP')])])"
      ]
     },
     "execution_count": 18,
     "metadata": {},
     "output_type": "execute_result"
    }
   ],
   "source": [
    "nltk.ne_chunk(tokenized)"
   ]
  },
  {
   "cell_type": "code",
   "execution_count": 20,
   "metadata": {},
   "outputs": [],
   "source": [
    "tree = nltk.ne_chunk(tokenized, binary=True)\n",
    "\n",
    "mwe_list = []\n",
    "for each in tree:\n",
    "    each = str(each)\n",
    "    if \"NE\" in each:\n",
    "        string = \"\"\n",
    "        for all in each.split(\" \")[1:]:\n",
    "            string += all.split('/')[0] + \" \"\n",
    "        mwe_list.append(string)"
   ]
  },
  {
   "cell_type": "code",
   "execution_count": 23,
   "metadata": {},
   "outputs": [
    {
     "data": {
      "text/plain": [
       "['Micorsoft Corporation ', 'American ', 'Redmond ', 'Washington ']"
      ]
     },
     "execution_count": 23,
     "metadata": {},
     "output_type": "execute_result"
    }
   ],
   "source": [
    "mwe_list"
   ]
  }
 ],
 "metadata": {
  "kernelspec": {
   "display_name": "Python 3",
   "language": "python",
   "name": "python3"
  },
  "language_info": {
   "codemirror_mode": {
    "name": "ipython",
    "version": 3
   },
   "file_extension": ".py",
   "mimetype": "text/x-python",
   "name": "python",
   "nbconvert_exporter": "python",
   "pygments_lexer": "ipython3",
   "version": "3.7.6"
  }
 },
 "nbformat": 4,
 "nbformat_minor": 4
}
