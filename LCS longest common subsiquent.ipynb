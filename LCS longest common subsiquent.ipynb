{
 "cells": [
  {
   "cell_type": "markdown",
   "metadata": {},
   "source": [
    "## Tries"
   ]
  },
  {
   "cell_type": "markdown",
   "metadata": {},
   "source": [
    "    array = list\n",
    "    hash table = dict\n",
    "    hash set = set\n",
    "    immutable array = tuple"
   ]
  },
  {
   "cell_type": "code",
   "execution_count": 3,
   "metadata": {},
   "outputs": [
    {
     "data": {
      "text/plain": [
       "['a', 'ab', 'ac', 'abc', 'abd', 'be', 'bc', 'z', 'zds']"
      ]
     },
     "execution_count": 3,
     "metadata": {},
     "output_type": "execute_result"
    }
   ],
   "source": [
    "['a','ab','ac','abc','abd','be','bc','z','zds']"
   ]
  },
  {
   "cell_type": "markdown",
   "metadata": {},
   "source": [
    "                             Null\n",
    "                a                    b        z\n",
    "            ab       ac        be(x)    bc(x)       zds(x)\n",
    "       abc(x) abd(x)"
   ]
  },
  {
   "cell_type": "markdown",
   "metadata": {},
   "source": [
    "## LCS longest common subsiquent\n",
    "\n",
    "- Query Completion\n",
    "- auto correct the whole sentence\n",
    "- genetics - overlap between two genes"
   ]
  },
  {
   "cell_type": "markdown",
   "metadata": {},
   "source": [
    "    lcs('akashdixit','pkashcdixit')\n",
    "    akashdixit"
   ]
  },
  {
   "cell_type": "markdown",
   "metadata": {},
   "source": [
    "<img src = 'LCS.png'/>"
   ]
  },
  {
   "cell_type": "code",
   "execution_count": 38,
   "metadata": {},
   "outputs": [],
   "source": [
    "def lcs(a,b):\n",
    "    \"\"\"\n",
    "    returns longest common subsequeces\"\"\"\n",
    "    \n",
    "    lengths = [[0]*(len(b)+1) for i in range(len(a)+1)]\n",
    "    \n",
    "    for i, x in enumerate (a):\n",
    "        for j,y in enumerate(b):\n",
    "            if x==y:\n",
    "                lengths[i+1][j+1] = lengths[i][j]+1\n",
    "            else:\n",
    "                lengths[i+1][j+1] = max(lengths[i][j+1],\n",
    "                                       lengths[i+1][j])\n",
    "                \n",
    "    return lengths[i+1][j+1]\n",
    "##Error in code   \n",
    "\n",
    "    result = ''\n",
    "    j = len(b)\n",
    "    for i in range(1,len(a)+1):\n",
    "        if lengths[i][j] != lengths[i-1][j]:\n",
    "            result += a[i-1]"
   ]
  },
  {
   "cell_type": "code",
   "execution_count": 39,
   "metadata": {},
   "outputs": [
    {
     "data": {
      "text/plain": [
       "9"
      ]
     },
     "execution_count": 39,
     "metadata": {},
     "output_type": "execute_result"
    }
   ],
   "source": [
    "lcs('akashdixit','hkashudixitl')"
   ]
  },
  {
   "cell_type": "code",
   "execution_count": 40,
   "metadata": {},
   "outputs": [],
   "source": [
    "queries = ['how to set up mongo db',\n",
    "          'how to set up redis cache',\n",
    "          'how to remove mongo db',\n",
    "          'how to invalidate redis cache']\n",
    "\n",
    "answer = ['ans1','ans2','ans3','ans4']"
   ]
  },
  {
   "cell_type": "code",
   "execution_count": 41,
   "metadata": {},
   "outputs": [],
   "source": [
    "def auto_suggest_query(sentence):\n",
    "    distance = []\n",
    "    \n",
    "    for each in queries:\n",
    "        distance.append(lcs(sentence,each))\n",
    "\n",
    "    if len(set(distance)) ==1:\n",
    "        return \"No Ans\"\n",
    "    else:\n",
    "        return answer[distance.index(max(distance))]"
   ]
  },
  {
   "cell_type": "code",
   "execution_count": 42,
   "metadata": {},
   "outputs": [
    {
     "data": {
      "text/plain": [
       "'ans2'"
      ]
     },
     "execution_count": 42,
     "metadata": {},
     "output_type": "execute_result"
    }
   ],
   "source": [
    "auto_suggest_query('set up a cache')"
   ]
  },
  {
   "cell_type": "code",
   "execution_count": 43,
   "metadata": {},
   "outputs": [
    {
     "data": {
      "text/plain": [
       "'ans1'"
      ]
     },
     "execution_count": 43,
     "metadata": {},
     "output_type": "execute_result"
    }
   ],
   "source": [
    "auto_suggest_query('get mongo db running')"
   ]
  },
  {
   "cell_type": "code",
   "execution_count": 44,
   "metadata": {},
   "outputs": [
    {
     "data": {
      "text/plain": [
       "'No Ans'"
      ]
     },
     "execution_count": 44,
     "metadata": {},
     "output_type": "execute_result"
    }
   ],
   "source": [
    "auto_suggest_query('how to')"
   ]
  }
 ],
 "metadata": {
  "kernelspec": {
   "display_name": "Python 3",
   "language": "python",
   "name": "python3"
  },
  "language_info": {
   "codemirror_mode": {
    "name": "ipython",
    "version": 3
   },
   "file_extension": ".py",
   "mimetype": "text/x-python",
   "name": "python",
   "nbconvert_exporter": "python",
   "pygments_lexer": "ipython3",
   "version": "3.7.6"
  }
 },
 "nbformat": 4,
 "nbformat_minor": 4
}
